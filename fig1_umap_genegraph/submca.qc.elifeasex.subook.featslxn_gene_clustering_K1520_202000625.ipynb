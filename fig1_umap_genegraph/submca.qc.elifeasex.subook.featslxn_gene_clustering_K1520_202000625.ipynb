{
 "cells": [
  {
   "cell_type": "code",
   "execution_count": 1,
   "metadata": {},
   "outputs": [],
   "source": [
    "from plotnine import *\n",
    "import matplotlib\n",
    "\n",
    "%matplotlib notebook \n",
    "matplotlib.rcParams['figure.figsize'] = [8, 5]"
   ]
  },
  {
   "cell_type": "code",
   "execution_count": 2,
   "metadata": {},
   "outputs": [],
   "source": [
    "import pandas as pd\n",
    "import numpy as np\n",
    "import re\n",
    "#from pip._internal import main as pipmain\n",
    "#pipmain(['install', 'colour'])\n",
    "from colour import Color\n",
    "import operator\n",
    "from sklearn.neighbors import NearestNeighbors\n",
    "#spectral clustering\n",
    "from sklearn.cluster import SpectralClustering\n",
    "import scipy"
   ]
  },
  {
   "cell_type": "code",
   "execution_count": 3,
   "metadata": {},
   "outputs": [],
   "source": [
    "import numpy"
   ]
  },
  {
   "cell_type": "code",
   "execution_count": 4,
   "metadata": {},
   "outputs": [
    {
     "name": "stdout",
     "output_type": "stream",
     "text": [
      "(2000, 623)\n",
      "(1797, 623)\n",
      "<class 'numpy.ndarray'>\n"
     ]
    }
   ],
   "source": [
    "data = pd.read_csv(\"genegraph/submca.qc.counts.elifeasex.subook.featslxn_forgenegraph.csv\")\n",
    "data = data.set_index(\"Unnamed: 0\")\n",
    "print(data.shape)\n",
    "#data = data.transpose()\n",
    "data = data[list(data.sum(axis=1)>=200)]\n",
    "print(data.shape)\n",
    "# get rid of gene name column\n",
    "#data = data.drop(columns=[\"Unnamed: 0\"])\n",
    "\n",
    "genes = list(data.index)\n",
    "data = data.transpose()\n",
    "\n",
    "matrix = data.values\n",
    "\n",
    "print(type(matrix))"
   ]
  },
  {
   "cell_type": "code",
   "execution_count": 5,
   "metadata": {},
   "outputs": [
    {
     "data": {
      "text/plain": [
       "1797"
      ]
     },
     "execution_count": 5,
     "metadata": {},
     "output_type": "execute_result"
    }
   ],
   "source": [
    "len(genes)"
   ]
  },
  {
   "cell_type": "code",
   "execution_count": 6,
   "metadata": {},
   "outputs": [
    {
     "data": {
      "text/plain": [
       "(1797, 623)"
      ]
     },
     "execution_count": 6,
     "metadata": {},
     "output_type": "execute_result"
    }
   ],
   "source": [
    "#expresses = \n",
    "#genes = [x for x in genes[[index for index, x in enumerate(data.sum(axis=0)>=200) if x == True]]]\n",
    "#expresses = data\n",
    "normalized = np.log(data+1)\n",
    "normalized = normalized/normalized.mean(axis=0)\n",
    "normalized = normalized.transpose()\n",
    "\n",
    "normalized.shape"
   ]
  },
  {
   "cell_type": "code",
   "execution_count": 7,
   "metadata": {},
   "outputs": [],
   "source": [
    "nbrs = NearestNeighbors(n_neighbors=6,metric=\"manhattan\").fit(normalized.values)"
   ]
  },
  {
   "cell_type": "code",
   "execution_count": 8,
   "metadata": {},
   "outputs": [],
   "source": [
    "adj_mat = nbrs.kneighbors_graph(normalized.values)"
   ]
  },
  {
   "cell_type": "code",
   "execution_count": 9,
   "metadata": {},
   "outputs": [],
   "source": [
    "distances, indices = nbrs.kneighbors(normalized.values)"
   ]
  },
  {
   "cell_type": "code",
   "execution_count": 10,
   "metadata": {},
   "outputs": [
    {
     "name": "stderr",
     "output_type": "stream",
     "text": [
      "/Users/vh3/miniconda3/envs/genegraph/lib/python3.8/site-packages/sklearn/manifold/_spectral_embedding.py:212: UserWarning: Array is not symmetric, and will be converted to symmetric by average with its transpose.\n",
      "  adjacency = check_symmetric(adjacency)\n"
     ]
    },
    {
     "name": "stdout",
     "output_type": "stream",
     "text": [
      "spectral clustering\n",
      "[11  1  1 ...  9  1  1]\n"
     ]
    }
   ],
   "source": [
    "sc = SpectralClustering(15, affinity='precomputed', n_init=1000, assign_labels='discretize')\n",
    "sc.fit(adj_mat)\n",
    "print('spectral clustering')\n",
    "print(sc.labels_)"
   ]
  },
  {
   "cell_type": "code",
   "execution_count": 11,
   "metadata": {},
   "outputs": [],
   "source": [
    "with open(\"genegraph/subclusters.submca.elifeasex.subook.featslxn.k15.csv\",'w') as out:\n",
    "    for index, gene in enumerate(genes):\n",
    "        out.write(\",\".join([gene,str(sc.labels_[index])])+\"\\n\")"
   ]
  },
  {
   "cell_type": "code",
   "execution_count": 12,
   "metadata": {},
   "outputs": [],
   "source": [
    "with open(\"genegraph/subgraph_submca.elifeasex.subook.featslxn.k15.dot\",'w') as graph:\n",
    "    graph.write(\"graph genes{\\n\")\n",
    "    for i, edges in enumerate(indices):\n",
    "        for edge in edges:\n",
    "            graph.write(genes[i]+\" -- \"+genes[edge]+\";\\n\")\n",
    "    graph.write(\"}\")"
   ]
  },
  {
   "cell_type": "code",
   "execution_count": 13,
   "metadata": {},
   "outputs": [
    {
     "name": "stderr",
     "output_type": "stream",
     "text": [
      "/Users/vh3/miniconda3/envs/genegraph/lib/python3.8/site-packages/sklearn/manifold/_spectral_embedding.py:212: UserWarning: Array is not symmetric, and will be converted to symmetric by average with its transpose.\n",
      "  adjacency = check_symmetric(adjacency)\n"
     ]
    },
    {
     "name": "stdout",
     "output_type": "stream",
     "text": [
      "spectral clustering\n",
      "[6 9 9 ... 2 9 9]\n"
     ]
    }
   ],
   "source": [
    "sc = SpectralClustering(20, affinity='precomputed', n_init=1000, assign_labels='discretize')\n",
    "sc.fit(adj_mat)\n",
    "print('spectral clustering')\n",
    "print(sc.labels_)"
   ]
  },
  {
   "cell_type": "code",
   "execution_count": 14,
   "metadata": {},
   "outputs": [],
   "source": [
    "with open(\"genegraph/subclusters.submca.subook.elifeasex.featslxn.k20.csv\",'w') as out:\n",
    "    for index, gene in enumerate(genes):\n",
    "        out.write(\",\".join([gene,str(sc.labels_[index])])+\"\\n\")"
   ]
  },
  {
   "cell_type": "code",
   "execution_count": null,
   "metadata": {},
   "outputs": [],
   "source": []
  }
 ],
 "metadata": {
  "kernelspec": {
   "display_name": "Python 3",
   "language": "python",
   "name": "python3"
  },
  "language_info": {
   "codemirror_mode": {
    "name": "ipython",
    "version": 3
   },
   "file_extension": ".py",
   "mimetype": "text/x-python",
   "name": "python",
   "nbconvert_exporter": "python",
   "pygments_lexer": "ipython3",
   "version": "3.8.2"
  }
 },
 "nbformat": 4,
 "nbformat_minor": 2
}
